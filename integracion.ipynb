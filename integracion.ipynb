{
 "cells": [
  {
   "cell_type": "code",
   "execution_count": 9,
   "metadata": {
    "collapsed": false
   },
   "outputs": [
    {
     "name": "stdout",
     "output_type": "stream",
     "text": [
      "x [1.    1.125 1.25  1.375 1.5   1.625 1.75  1.875 2.   ]\n",
      "y [1.0, 0.7901234567901234, 0.64, 0.5289256198347108, 0.4444444444444444, 0.378698224852071, 0.32653061224489793, 0.28444444444444444, 0.25]\n",
      "trapecio 0.5022708503263364 0.125\n",
      "simpson13 0.5000298790443368\n",
      "simpson38 0.4956583207383969\n"
     ]
    }
   ],
   "source": [
    "#Integral 1/x**2 en el intervalo de 1 a 2\n",
    "import numpy as np\n",
    "\n",
    "def trapecio(y,h):\n",
    "    I = y[0]\n",
    "    I += y[-1]\n",
    "    I += sum(2*yi for yi in y[1:-1])\n",
    "    I *= h/2\n",
    "    return I\n",
    "\n",
    "def simpson13(y,h):\n",
    "    I = y[0]\n",
    "    I += y[-1]\n",
    "    for i in range(1,len(y)-1):\n",
    "        if i % 2 == 0:\n",
    "            I += 2*y[i]\n",
    "        else:\n",
    "            I += 4*y[i]\n",
    "    I *= h/3\n",
    "    return I\n",
    "\n",
    "def simpson38(y,h):\n",
    "    I = y[0]\n",
    "    I += y[-1]\n",
    "    for i in range(1,len(y)-1):\n",
    "        if i % 3 == 0:\n",
    "            I += 2*y[i]\n",
    "        else:\n",
    "            I += 3*y[i]\n",
    "    I *= 3*h/8\n",
    "    return I\n",
    "\n",
    "n = 9\n",
    "a = 1\n",
    "b = 2\n",
    "h = abs(a-b)/(n-1)\n",
    "x = np.linspace(a,b,n)\n",
    "\n",
    "def fun(x):\n",
    "    return 1/x**2\n",
    "y = [fun(xi) for xi in x]\n",
    "print('x', x)\n",
    "print('y',y)\n",
    "\n",
    "print('trapecio', trapecio(y,h),h)\n",
    "print('simpson13', simpson13(y,h))\n",
    "print('simpson38', simpson38(y,h))"
   ]
  },
  {
   "cell_type": "code",
   "execution_count": 0,
   "metadata": {
    "collapsed": false
   },
   "outputs": [
   ],
   "source": [
   ]
  }
 ],
 "metadata": {
  "kernelspec": {
   "display_name": "Python 3 (Anaconda 5)",
   "language": "python",
   "name": "anaconda5"
  }
 },
 "nbformat": 4,
 "nbformat_minor": 0
}